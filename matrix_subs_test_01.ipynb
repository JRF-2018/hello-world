{
  "nbformat": 4,
  "nbformat_minor": 0,
  "metadata": {
    "colab": {
      "name": "matrix_subs_test_01.ipynb",
      "provenance": [],
      "collapsed_sections": [],
      "authorship_tag": "ABX9TyM9HqmJ7DMfevPD2I+yLrSy",
      "include_colab_link": true
    },
    "kernelspec": {
      "name": "python3",
      "display_name": "Python 3"
    },
    "language_info": {
      "name": "python"
    }
  },
  "cells": [
    {
      "cell_type": "markdown",
      "metadata": {
        "id": "view-in-github",
        "colab_type": "text"
      },
      "source": [
        "<a href=\"https://colab.research.google.com/gist/JRF-2018/c88a3b4ada72611a23cd6d2ede9cebd6/matrix_subs_test_01.ipynb\" target=\"_parent\"><img src=\"https://colab.research.google.com/assets/colab-badge.svg\" alt=\"Open In Colab\"/></a>"
      ]
    },
    {
      "cell_type": "markdown",
      "source": [
        "# 行列変数の代入のテスト\n",
        "\n",
        "例えばハミルトニアンから得られた等式の左辺と右辺を変形して代入に使える式を導きたい。その等式には行列が使われているとしよう。"
      ],
      "metadata": {
        "id": "wV3RLB93JD-j"
      }
    },
    {
      "cell_type": "code",
      "execution_count": 1,
      "metadata": {
        "id": "j_SF_SDK-kzK"
      },
      "outputs": [],
      "source": [
        "from sympy import *\n",
        "import traceback"
      ]
    },
    {
      "cell_type": "code",
      "source": [
        "init_printing()"
      ],
      "metadata": {
        "id": "UboZj6WM-nGv"
      },
      "execution_count": 2,
      "outputs": []
    },
    {
      "cell_type": "code",
      "source": [
        "N = Symbol(\"N\", integer=True, positive=True)"
      ],
      "metadata": {
        "id": "ju8IrQub-oRQ"
      },
      "execution_count": 3,
      "outputs": []
    },
    {
      "cell_type": "code",
      "source": [
        "M1 = MatrixSymbol(\"M1\", N, N)"
      ],
      "metadata": {
        "id": "73GQXSDk-zHG"
      },
      "execution_count": 4,
      "outputs": []
    },
    {
      "cell_type": "code",
      "source": [
        "M2 = MatrixSymbol(\"M2\", N, N)"
      ],
      "metadata": {
        "id": "HO0-cEGK-3fx"
      },
      "execution_count": 5,
      "outputs": []
    },
    {
      "cell_type": "code",
      "source": [
        "M3 = MatrixSymbol(\"M3\", N, N)"
      ],
      "metadata": {
        "id": "obAZYHme_kVx"
      },
      "execution_count": 6,
      "outputs": []
    },
    {
      "cell_type": "markdown",
      "source": [
        "行列の等式が例えば次のようなものであったとする。"
      ],
      "metadata": {
        "id": "6J7OmjWmJq98"
      }
    },
    {
      "cell_type": "code",
      "source": [
        "z0 = Eq((M1 ** -1) * M3, M2 ** 2)\n",
        "z0"
      ],
      "metadata": {
        "colab": {
          "base_uri": "https://localhost:8080/",
          "height": 39
        },
        "id": "_khIAaGrJ3Zz",
        "outputId": "47daa2ab-acaf-4cc3-aad9-033c4e04d63e"
      },
      "execution_count": 7,
      "outputs": [
        {
          "output_type": "execute_result",
          "data": {
            "text/plain": [
              "  -1        2\n",
              "M₁  ⋅M₃ = M₂ "
            ],
            "image/png": "[encoded data removed]",
            "text/latex": "$\\displaystyle M_{1}^{-1} M_{3} = M_{2}^{2}$"
          },
          "metadata": {},
          "execution_count": 7
        }
      ]
    },
    {
      "cell_type": "markdown",
      "source": [
        "これを simplify して M3 = の形にしたい。しかし単純な simplify ではエラーが出る。"
      ],
      "metadata": {
        "id": "S7U2G82MKE1F"
      }
    },
    {
      "cell_type": "code",
      "source": [
        "try: z0.simplify()\n",
        "except: traceback.print_exc()"
      ],
      "metadata": {
        "colab": {
          "base_uri": "https://localhost:8080/"
        },
        "id": "dGlYIroSKVxj",
        "outputId": "2b7f4519-dff2-4557-a209-d8339baf7f44"
      },
      "execution_count": 8,
      "outputs": [
        {
          "output_type": "stream",
          "name": "stderr",
          "text": [
            "Traceback (most recent call last):\n",
            "  File \"<ipython-input-8-10c5005b6334>\", line 1, in <module>\n",
            "    try: z0.simplify()\n",
            "  File \"/usr/local/lib/python3.7/dist-packages/sympy/core/basic.py\", line 1671, in simplify\n",
            "    return simplify(self, **kwargs)\n",
            "  File \"/usr/local/lib/python3.7/dist-packages/sympy/simplify/simplify.py\", line 561, in simplify\n",
            "    return _eval_simplify(**kwargs)\n",
            "  File \"/usr/local/lib/python3.7/dist-packages/sympy/core/relational.py\", line 562, in _eval_simplify\n",
            "    e = super()._eval_simplify(**kwargs)\n",
            "  File \"/usr/local/lib/python3.7/dist-packages/sympy/core/relational.py\", line 314, in _eval_simplify\n",
            "    elif dif.equals(0):  # XXX this is expensive\n",
            "  File \"/usr/local/lib/python3.7/dist-packages/sympy/matrices/expressions/matexpr.py\", line 386, in equals\n",
            "    return self.as_explicit().equals(other)\n",
            "  File \"/usr/local/lib/python3.7/dist-packages/sympy/matrices/expressions/matexpr.py\", line 337, in as_explicit\n",
            "    'Matrix with symbolic shape '\n",
            "ValueError: Matrix with symbolic shape cannot be represented explicitly.\n"
          ]
        }
      ]
    },
    {
      "cell_type": "markdown",
      "source": [
        "N を指定すると simplify できるが、望む形にはなっていない。"
      ],
      "metadata": {
        "id": "r-fJiIdkKcAT"
      }
    },
    {
      "cell_type": "code",
      "source": [
        "z1 = z0.subs(N, 3).simplify()\n",
        "z1"
      ],
      "metadata": {
        "colab": {
          "base_uri": "https://localhost:8080/",
          "height": 39
        },
        "id": "znIot9sz-6y3",
        "outputId": "3358bc71-1c37-4a4d-bbf5-86e771ce72ca"
      },
      "execution_count": 9,
      "outputs": [
        {
          "output_type": "execute_result",
          "data": {
            "text/plain": [
              "  2     -1   \n",
              "M₂  = M₁  ⋅M₃"
            ],
            "image/png": "[encoded data removed]",
            "text/latex": "$\\displaystyle M_{2}^{2} = M_{1}^{-1} M_{3}$"
          },
          "metadata": {},
          "execution_count": 9
        }
      ]
    },
    {
      "cell_type": "markdown",
      "source": [
        "両辺に M1 をかけてみる。"
      ],
      "metadata": {
        "id": "wERe1NEeMQ4l"
      }
    },
    {
      "cell_type": "code",
      "source": [
        "z2 = Eq(M1.subs(N, 3) * z1.rhs, M1.subs(N,3) * z1.lhs)\n",
        "z2"
      ],
      "metadata": {
        "colab": {
          "base_uri": "https://localhost:8080/",
          "height": 39
        },
        "id": "uORKeEnW_C97",
        "outputId": "e1a5f772-e5cf-4d11-fb76-3a010e0f74db"
      },
      "execution_count": 10,
      "outputs": [
        {
          "output_type": "execute_result",
          "data": {
            "text/plain": [
              "          2\n",
              "M₃ = M₁⋅M₂ "
            ],
            "image/png": "[encoded data removed]",
            "text/latex": "$\\displaystyle M_{3} = M_{1} M_{2}^{2}$"
          },
          "metadata": {},
          "execution_count": 10
        }
      ]
    },
    {
      "cell_type": "markdown",
      "source": [
        "ここで右辺を取れば M3 に代入できる形になる。"
      ],
      "metadata": {
        "id": "NVWKlFd2Mf2u"
      }
    },
    {
      "cell_type": "code",
      "source": [
        "z2.rhs"
      ],
      "metadata": {
        "colab": {
          "base_uri": "https://localhost:8080/",
          "height": 39
        },
        "id": "BeWjxlWeMoB1",
        "outputId": "29b70126-69e4-4a22-9f45-ebf64d0f1e3d"
      },
      "execution_count": 11,
      "outputs": [
        {
          "output_type": "execute_result",
          "data": {
            "text/plain": [
              "     2\n",
              "M₁⋅M₂ "
            ],
            "image/png": "[encoded data removed]",
            "text/latex": "$\\displaystyle M_{1} M_{2}^{2}$"
          },
          "metadata": {},
          "execution_count": 11
        }
      ]
    },
    {
      "cell_type": "markdown",
      "source": [
        "しかし、これは rhs や lhs をやたら使う形になり美しくない。また N を具体的に指定しなければならないのも痛い。そこで Eq は最後まで取らず、z0.rhs - z0.lhs を考え、最後にそれを == 0 とすることを考える。"
      ],
      "metadata": {
        "id": "VqxQvWdPNCeE"
      }
    },
    {
      "cell_type": "code",
      "source": [
        " z3 = z0.rhs - z0.lhs\n",
        " z3"
      ],
      "metadata": {
        "colab": {
          "base_uri": "https://localhost:8080/",
          "height": 39
        },
        "id": "J8S6TcNpAfWz",
        "outputId": "db70f3b9-1f73-4eef-a01e-f40ee74461be"
      },
      "execution_count": 12,
      "outputs": [
        {
          "output_type": "execute_result",
          "data": {
            "text/plain": [
              "   -1        2\n",
              "-M₁  ⋅M₃ + M₂ "
            ],
            "image/png": "[encoded data removed]",
            "text/latex": "$\\displaystyle - M_{1}^{-1} M_{3} + M_{2}^{2}$"
          },
          "metadata": {},
          "execution_count": 12
        }
      ]
    },
    {
      "cell_type": "code",
      "source": [
        "z4 = M1 * z3\n",
        "z4"
      ],
      "metadata": {
        "colab": {
          "base_uri": "https://localhost:8080/",
          "height": 39
        },
        "id": "0jwRDtpFAifL",
        "outputId": "4d04a612-6a3e-4726-a352-5a42ab1a7d09"
      },
      "execution_count": 13,
      "outputs": [
        {
          "output_type": "execute_result",
          "data": {
            "text/plain": [
              "   ⎛   -1        2⎞\n",
              "M₁⋅⎝-M₁  ⋅M₃ + M₂ ⎠"
            ],
            "image/png": "[encoded data removed]",
            "text/latex": "$\\displaystyle M_{1} \\left(- M_{1}^{-1} M_{3} + M_{2}^{2}\\right)$"
          },
          "metadata": {},
          "execution_count": 13
        }
      ]
    },
    {
      "cell_type": "markdown",
      "source": [
        "これは expand する必要がある。"
      ],
      "metadata": {
        "id": "bVez46tmN8JF"
      }
    },
    {
      "cell_type": "code",
      "source": [
        "z4_ = z4.expand()\n",
        "z4_"
      ],
      "metadata": {
        "colab": {
          "base_uri": "https://localhost:8080/",
          "height": 39
        },
        "id": "iZA6Sj27D-V5",
        "outputId": "1cc3dcc7-3bb4-490f-f2ca-dea6d8e396a7"
      },
      "execution_count": 14,
      "outputs": [
        {
          "output_type": "execute_result",
          "data": {
            "text/plain": [
              "           2\n",
              "-M₃ + M₁⋅M₂ "
            ],
            "image/png": "[encoded data removed]",
            "text/latex": "$\\displaystyle M_{1} M_{2}^{2} - M_{3}$"
          },
          "metadata": {},
          "execution_count": 14
        }
      ]
    },
    {
      "cell_type": "markdown",
      "source": [
        "ここまでくれば M3 に代入する形は以下で出る。"
      ],
      "metadata": {
        "id": "dAfo6qGDOIk9"
      }
    },
    {
      "cell_type": "code",
      "source": [
        "M3_ = (z4_ + M3).doit()\n",
        "M3_"
      ],
      "metadata": {
        "colab": {
          "base_uri": "https://localhost:8080/",
          "height": 39
        },
        "id": "iCvnl8akEB-L",
        "outputId": "35e5fae5-ba40-4aa2-dcfe-63961ea05731"
      },
      "execution_count": 15,
      "outputs": [
        {
          "output_type": "execute_result",
          "data": {
            "text/plain": [
              "     2\n",
              "M₁⋅M₂ "
            ],
            "image/png": "[encoded data removed]",
            "text/latex": "$\\displaystyle M_{1} M_{2}^{2}$"
          },
          "metadata": {},
          "execution_count": 15
        }
      ]
    },
    {
      "cell_type": "markdown",
      "source": [
        "問題を変えよう。次の問題を考える。z5 の等式を M3 に代入する形に変えたい。"
      ],
      "metadata": {
        "id": "IG6qgmi9Oju0"
      }
    },
    {
      "cell_type": "code",
      "source": [
        "z5 = Eq(M1, (M2 + M1) * M3)\n",
        "z5"
      ],
      "metadata": {
        "colab": {
          "base_uri": "https://localhost:8080/",
          "height": 39
        },
        "id": "rss1l4JSOpZt",
        "outputId": "f15b1577-2fa7-4021-b298-210aa04b7ba9"
      },
      "execution_count": 16,
      "outputs": [
        {
          "output_type": "execute_result",
          "data": {
            "text/plain": [
              "M₁ = (M₁ + M₂)⋅M₃"
            ],
            "image/png": "[encoded data removed]",
            "text/latex": "$\\displaystyle M_{1} = \\left(M_{1} + M_{2}\\right) M_{3}$"
          },
          "metadata": {},
          "execution_count": 16
        }
      ]
    },
    {
      "cell_type": "markdown",
      "source": [
        "z3 と同じ戦略を用いる。"
      ],
      "metadata": {
        "id": "4e6DZDy3PGTG"
      }
    },
    {
      "cell_type": "code",
      "source": [
        "z6 = z5.rhs - z5.lhs\n",
        "z6"
      ],
      "metadata": {
        "colab": {
          "base_uri": "https://localhost:8080/",
          "height": 39
        },
        "id": "OSSF-P5bEFeA",
        "outputId": "4f2f3b1a-cd1c-4a13-f97d-8fba6506d569"
      },
      "execution_count": 17,
      "outputs": [
        {
          "output_type": "execute_result",
          "data": {
            "text/plain": [
              "-M₁ + (M₁ + M₂)⋅M₃"
            ],
            "image/png": "[encoded data removed]",
            "text/latex": "$\\displaystyle \\left(M_{1} + M_{2}\\right) M_{3} - M_{1}$"
          },
          "metadata": {},
          "execution_count": 17
        }
      ]
    },
    {
      "cell_type": "markdown",
      "source": [
        "ここに (M1 + M2) ** -1 をかけたいのであるが、expand がうまくいかない。"
      ],
      "metadata": {
        "id": "_KJQ4vw8PY_E"
      }
    },
    {
      "cell_type": "code",
      "source": [
        "z7 = expand(((M1 + M2) ** -1) * z6)\n",
        "z7"
      ],
      "metadata": {
        "colab": {
          "base_uri": "https://localhost:8080/",
          "height": 48
        },
        "id": "nnZ4ZQO2Ph2e",
        "outputId": "6094431a-30d0-482b-d371-100097129294"
      },
      "execution_count": 18,
      "outputs": [
        {
          "output_type": "execute_result",
          "data": {
            "text/plain": [
              "         -1                  -1                 -1   \n",
              "(M₁ + M₂)  ⋅M₁⋅M₃ + (M₁ + M₂)  ⋅M₂⋅M₃ -(M₁ + M₂)  ⋅M₁"
            ],
            "image/png": "[encoded data removed]",
            "text/latex": "$\\displaystyle \\left(\\left(M_{1} + M_{2}\\right)^{-1} M_{1} M_{3} + \\left(M_{1} + M_{2}\\right)^{-1} M_{2} M_{3}\\right) - \\left(M_{1} + M_{2}\\right)^{-1} M_{1}$"
          },
          "metadata": {},
          "execution_count": 18
        }
      ]
    },
    {
      "cell_type": "markdown",
      "source": [
        "これを解くにはいったん M1 + M2 を M4 などと置く必要がある。\n"
      ],
      "metadata": {
        "id": "plrpu53aPyre"
      }
    },
    {
      "cell_type": "code",
      "source": [
        "M4 = MatrixSymbol(\"M4\", N, N)\n",
        "z7_ = expand((M4 ** -1) * z6.subs(M1 + M2, M4)).subs(M4, M1 + M2)\n",
        "z7_"
      ],
      "metadata": {
        "colab": {
          "base_uri": "https://localhost:8080/",
          "height": 39
        },
        "id": "JprLybcSGYsG",
        "outputId": "6d5e4c72-999c-4e93-a0c0-fb90732827b9"
      },
      "execution_count": 19,
      "outputs": [
        {
          "output_type": "execute_result",
          "data": {
            "text/plain": [
              "          -1        \n",
              "-(M₁ + M₂)  ⋅M₁ + M₃"
            ],
            "image/png": "[encoded data removed]",
            "text/latex": "$\\displaystyle - \\left(M_{1} + M_{2}\\right)^{-1} M_{1} + M_{3}$"
          },
          "metadata": {},
          "execution_count": 19
        }
      ]
    },
    {
      "cell_type": "markdown",
      "source": [
        "こうなれば M3 の代入形はすぐである。"
      ],
      "metadata": {
        "id": "o4yct7_eQUq9"
      }
    },
    {
      "cell_type": "code",
      "source": [
        "M3__ = (-z7_ + M3).expand().doit()\n",
        "M3__"
      ],
      "metadata": {
        "colab": {
          "base_uri": "https://localhost:8080/",
          "height": 39
        },
        "id": "Jb4M7cInHaAx",
        "outputId": "8cb630cd-8393-4c7a-e9b6-577160fab34c"
      },
      "execution_count": 20,
      "outputs": [
        {
          "output_type": "execute_result",
          "data": {
            "text/plain": [
              "         -1   \n",
              "(M₁ + M₂)  ⋅M₁"
            ],
            "image/png": "[encoded data removed]",
            "text/latex": "$\\displaystyle \\left(M_{1} + M_{2}\\right)^{-1} M_{1}$"
          },
          "metadata": {},
          "execution_count": 20
        }
      ]
    }
  ]
}